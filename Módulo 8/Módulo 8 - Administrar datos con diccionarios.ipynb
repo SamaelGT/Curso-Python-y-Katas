{
 "cells": [
  {
   "cell_type": "markdown",
   "metadata": {},
   "source": [
    "# Introducción\n",
    "Con frecuencia tendrás que trabajar con datos más complejos que cadenas y valores booleanos. En este módulo se te proporcionan las herramientas para haverlo. Ahora se acotará el tema mediante el aálisis de un escenario."
   ]
  },
  {
   "cell_type": "markdown",
   "metadata": {},
   "source": [
    "### Introducción a los diccionarios de Pyhton\n",
    "Las variables de Pyhton pueden almacenar varios tipos de datos. Anteriormente, hemos aprendido que puedes almacenar cadenas y números:"
   ]
  },
  {
   "cell_type": "code",
   "execution_count": null,
   "metadata": {},
   "outputs": [],
   "source": [
    "name = 'Earth'\n",
    "moons = 1"
   ]
  },
  {
   "cell_type": "markdown",
   "metadata": {},
   "source": [
    "Aunque esto funciona para canditades más pequeñas de datos, puede ser cada vez más complejo cuando se trabaja con datos relacionados. Imagina que quieres almacenar información sobre las lunas de la Tierra y la Luna."
   ]
  },
  {
   "cell_type": "code",
   "execution_count": null,
   "metadata": {},
   "outputs": [],
   "source": [
    "earth_name = 'Earth'\n",
    "earth_moons = 1\n",
    "\n",
    "jupiter_name = 'Jupiter'\n",
    "jupiter_moons = 79"
   ]
  },
  {
   "cell_type": "markdown",
   "metadata": {},
   "source": [
    "Observa cómo se duplican las variables con prefijos diferentes. Esto puede resultar difícil de manejar. Con frecuencia tendrás que trabajar con conjuntos de datos relacionados, como por ejemplo: el promedio de precipitaciones durante varios meses en distintas ciudades, almacenarlos como valores individuales no es una opción viable. Aquí es donde los diccionarios de Pyhton pueden ayudarnos.\n",
    "\n",
    "Los diccionarios de Pyhton permiten trabajar con conjuntos de datos relacionados.\n",
    "Un diccionario es una colección de pares clave-valor. Piensa que es como un grupo de variables dentro de una cajita, donde la clave es el nombre de la variable y el valor es el valor almacenado en su interior."
   ]
  },
  {
   "cell_type": "markdown",
   "metadata": {},
   "source": [
    "### Creación de un diccionario\n",
    "Pyhton usa llaves (`{}`) y dos puntos (`:`) para indicar un diccionario. Puedes crear un diccionario vacío y agregar valores más adelante, o bien rellenarlo en el momento de la creación. Cada clave o valor está separado por dos puntos y el nombre de cada clave se incluye entre comillas como un literal de cadena. Como la clave es un literal de cadena, se puede usar el nombre que sea adecuado para describir el valor (Si el que ti quieras).\n",
    "\n",
    "Ahora crearemos un diccionario para almaenar el nombre del planeta Tierra y el número de lunas que tiene:"
   ]
  },
  {
   "cell_type": "code",
   "execution_count": null,
   "metadata": {},
   "outputs": [],
   "source": [
    "planet = {\n",
    "    'name': 'Earth',\n",
    "    'moons': 1\n",
    "}"
   ]
  },
  {
   "cell_type": "markdown",
   "metadata": {},
   "source": [
    "Tiene dos claves, `'name'` y `'moons'`. Cada una se comporta igual que una variable: tienen un nombre único y almacenan un valor. Pero se incluyen dentro de una única variable más grande, denominada `planets`.\n",
    "\n",
    "Como sucede con las variables convencionales, debes asegurarte de que usas los tipos de datos correctos. En el valor `moons` de `1` en el ejemplo anterior, no se han incluido comillas alrededor deñ número, porque se quiere usar un entero. Si hubieras usado`'1'`, Pyhton lo vería como una cadena, lo que afectaría a la capacidad de realizar cálculos.\n",
    "\n",
    "A diferencia de las variables convencionales, los nombres de clave no necesitan seguir las reglas de nomenclatura estándar para Pyhton. Por lo que te recomendamos ser más descriptivo en el código."
   ]
  },
  {
   "cell_type": "markdown",
   "metadata": {},
   "source": [
    "### Lectura de los valores de un diccionario.\n",
    "Podemos leer valores dentro de un diccionario. Los objetos de diccioanrio tienen un método llamado `get` que puedes usar para acceder a un valor mediante su clave.\n",
    "\n",
    "Si queremos imprimir `name`, funcionaría de la siguiente manera:"
   ]
  },
  {
   "cell_type": "code",
   "execution_count": 48,
   "metadata": {},
   "outputs": [
    {
     "name": "stdout",
     "output_type": "stream",
     "text": [
      "Jupiter\n"
     ]
    }
   ],
   "source": [
    "print(planet.get('name'))"
   ]
  },
  {
   "cell_type": "markdown",
   "metadata": {},
   "source": [
    "Como podrías sospechar, el acceso a los valores de un diccionario es una operación común. Afortunadamente, hay un acceso directo. También puedes pasar la clave entre corchetes(`[]`). Utilizando menos código que `get`y la mayoría de los programadoes utilizan esta sintaxis en su lugar. Podemos reescribir el ejemplo anterior de la siguiente forma:"
   ]
  },
  {
   "cell_type": "code",
   "execution_count": 49,
   "metadata": {},
   "outputs": [
    {
     "name": "stdout",
     "output_type": "stream",
     "text": [
      "Jupiter\n"
     ]
    }
   ],
   "source": [
    "# planet['name'] es identico a usar planet.get('name')\n",
    "print(planet['name'])"
   ]
  },
  {
   "cell_type": "markdown",
   "metadata": {},
   "source": [
    "Aunque el comportamiento de `get` y los corchetes (`[]`) suelen ser el mismo para recuperrar elementos, hay una diferencia principal. Si una clave no está disponible, `get` devuelve `None` y `[]` generara un error `KeyError`."
   ]
  },
  {
   "cell_type": "code",
   "execution_count": 51,
   "metadata": {},
   "outputs": [
    {
     "ename": "KeyError",
     "evalue": "'wibble'",
     "output_type": "error",
     "traceback": [
      "\u001b[0;31m---------------------------------------------------------------------------\u001b[0m",
      "\u001b[0;31mKeyError\u001b[0m                                  Traceback (most recent call last)",
      "\u001b[1;32m/Users/samaelgarciatorres/Desktop/Launch X/Curso Pyhton/Módulo 7/Módulo 8 - Administrar datos con diccionarios.ipynb Cell 15'\u001b[0m in \u001b[0;36m<module>\u001b[0;34m\u001b[0m\n\u001b[1;32m      <a href='vscode-notebook-cell:/Users/samaelgarciatorres/Desktop/Launch%20X/Curso%20Pyhton/M%C3%B3dulo%207/M%C3%B3dulo%208%20-%20Administrar%20datos%20con%20diccionarios.ipynb#ch0000019?line=0'>1</a>\u001b[0m wibble \u001b[39m=\u001b[39m planet\u001b[39m.\u001b[39mget(\u001b[39m'\u001b[39m\u001b[39mwibble\u001b[39m\u001b[39m'\u001b[39m) \u001b[39m# Regresa None\u001b[39;00m\n\u001b[0;32m----> <a href='vscode-notebook-cell:/Users/samaelgarciatorres/Desktop/Launch%20X/Curso%20Pyhton/M%C3%B3dulo%207/M%C3%B3dulo%208%20-%20Administrar%20datos%20con%20diccionarios.ipynb#ch0000019?line=1'>2</a>\u001b[0m wibble \u001b[39m=\u001b[39mplanet[\u001b[39m'\u001b[39;49m\u001b[39mwibble\u001b[39;49m\u001b[39m'\u001b[39;49m] \u001b[39m# Arroja un KeyError\u001b[39;00m\n\u001b[1;32m      <a href='vscode-notebook-cell:/Users/samaelgarciatorres/Desktop/Launch%20X/Curso%20Pyhton/M%C3%B3dulo%207/M%C3%B3dulo%208%20-%20Administrar%20datos%20con%20diccionarios.ipynb#ch0000019?line=2'>3</a>\u001b[0m \u001b[39mprint\u001b[39m(wibble)\n",
      "\u001b[0;31mKeyError\u001b[0m: 'wibble'"
     ]
    }
   ],
   "source": [
    "wibble = planet.get('wibble') # Regresa None\n",
    "wibble =planet['wibble'] # Arroja un KeyError\n",
    "print(wibble)"
   ]
  },
  {
   "cell_type": "markdown",
   "metadata": {},
   "source": [
    "Cómo te podrás dar cuenta, funcionan con una estructura similar a las listas. Ya que en el caso de las listas accedemos a cada uno de sus elementos a través de su índice (posición iniciando en 0) y en el caso de un diccionario, accedemos a sus elementos mediante la 'clave'."
   ]
  },
  {
   "cell_type": "markdown",
   "metadata": {},
   "source": [
    "### Modificación de valores de un diccionario\n",
    "También puedes modificar valores dentro de un objeto de diccionario, con el método `update`. Este métodoacepta un diccionario como parámetro (si, parámetro por que un diccionario es un rango de valores) y actualiza los valores existentes con los nuevos que proporciones. Si quieres cambiar `name` para el diccionario `planet`, puedes usar lo siguiente, por ejemplo:"
   ]
  },
  {
   "cell_type": "code",
   "execution_count": null,
   "metadata": {},
   "outputs": [],
   "source": [
    "planet.update({'name': 'Makemake'})\n",
    "# name ahora es Makemake"
   ]
  },
  {
   "cell_type": "markdown",
   "metadata": {},
   "source": [
    "La principal ventaja de usar `update` es la capacidad de modificar varios valores en una operación. Los dos ejemplos siguientes son lógicamente los mismos, para la sintaxis es diferente. Puedes usar la sintaxis que creas más adecuada. Para actualizar valores individuales, la mayoría de los desarrolladores eligen corchetes.\n",
    "\n",
    "En el ejemplo siguiente se hacen las mismas modificaciones en la variable `planet` y se actualizan el nombre y las lunas. Ten en cuenta que al usar `update` realizas una sola llamada a la función, mientras que el uso de corchetes implica dos llamadas."
   ]
  },
  {
   "cell_type": "code",
   "execution_count": 42,
   "metadata": {},
   "outputs": [],
   "source": [
    "# Usando update\n",
    "planet.update({\n",
    "    'name': 'Jupiter',\n",
    "    'moons': 79\n",
    "})\n",
    "\n",
    "# Usando corchetes\n",
    "planet['name'] = 'Jupiter'\n",
    "planet['moons'] = 79"
   ]
  },
  {
   "cell_type": "markdown",
   "metadata": {},
   "source": [
    "### Adición y eliminación de claves\n",
    "No es necesario crear todas las claves al inicializar un diccionario. De hecho, no es necesario crear ninguna. Siempre que quieres crear una clave, asígnala como harías con una existente.\n",
    "\n",
    "Imagina que quieres actualizar `planet` para incluit el período orbital en días:"
   ]
  },
  {
   "cell_type": "code",
   "execution_count": 43,
   "metadata": {},
   "outputs": [],
   "source": [
    "planet['orbital period'] = 4333\n",
    "# el diccionario planet ahora contiene: {\n",
    "#   name: 'Jupiter'\n",
    "#   moons: 79\n",
    "#   orbital period: 4333\n",
    "# }"
   ]
  },
  {
   "cell_type": "markdown",
   "metadata": {},
   "source": [
    "| Los nombres de una clave, como todo lo demás en Pyhton, distinguen mayúsculas de minúsculas. Como resultado, 'name' y 'Name' se consideran dos claves independientes en un diccionario de Pyhton.\n",
    "\n",
    "Para quitar nombres de una clave, usa `pop`. `pop`devuelve el valor y quita la clave del diccionario. Para eliminar `orbital period`, puedes usar el código siguiente:"
   ]
  },
  {
   "cell_type": "code",
   "execution_count": 44,
   "metadata": {},
   "outputs": [
    {
     "name": "stdout",
     "output_type": "stream",
     "text": [
      "{'name': 'Jupiter', 'moons': 79, 'diameter (Km)': {'polar': 133709, 'equatorial': 142984}}\n"
     ]
    }
   ],
   "source": [
    "planet.pop('orbital period')\n",
    "\n",
    "# el diccionario planet ahora contienen:{\n",
    "#   name:'Jupiter'\n",
    "#   moons: 79\n",
    "# }\n",
    "print(planet)"
   ]
  },
  {
   "cell_type": "markdown",
   "metadata": {},
   "source": [
    "### Tipos de data complejos\n",
    "Los diccionarios pueden almacenar cualquier tipo de valor, incluidos otros diccionarios. Esto te permite modelar datos complejos según sea necesario. Imagina que debes que almacenar el diámetro de `planet`, que se podría medir alrededor de su ecuador o de los polos. Puedes crear otro diccionario dentro de `planet` para almacenar esta información:"
   ]
  },
  {
   "cell_type": "code",
   "execution_count": 45,
   "metadata": {},
   "outputs": [
    {
     "name": "stdout",
     "output_type": "stream",
     "text": [
      "{'name': 'Jupiter', 'moons': 79, 'diameter (Km)': {'polar': 133709, 'equatorial': 142984}}\n"
     ]
    }
   ],
   "source": [
    "# Añadimos los datos\n",
    "planet['diameter (Km)'] = {\n",
    "    'polar': 133709,\n",
    "    'equatorial': 142984\n",
    "}\n",
    "\n",
    "# el diccionario planet ahora contiene: {\n",
    "#   name:'Jupiter'\n",
    "#   moons: 79\n",
    "#   diameter (Km):{\n",
    "#       polar:133709\n",
    "#       equiatorial: 142984\n",
    "#   }\n",
    "# }\n",
    "print(planet)"
   ]
  },
  {
   "cell_type": "markdown",
   "metadata": {},
   "source": [
    "Para recuperar valores en un diccionario anidado, debe puedes utilizar corchetes `[]` o llamar a `get`."
   ]
  },
  {
   "cell_type": "code",
   "execution_count": 47,
   "metadata": {},
   "outputs": [
    {
     "name": "stdout",
     "output_type": "stream",
     "text": [
      "Jupiter polar diameter: 133709\n"
     ]
    }
   ],
   "source": [
    "print(f\"{planet['name']} polar diameter: {planet['diameter (Km)']['polar']}\")"
   ]
  },
  {
   "cell_type": "markdown",
   "metadata": {},
   "source": [
    "### Programación dinámica con diccionarios\n",
    "En el programa, quieres realizar varios cálculos, como el del número total de lunas. Además, a medida que progreses en programación, es posible que necesites cargar este tipo de información desde erchivos o una base de datos, en lugar de programarlos directamente en Pyhton.\n",
    "\n",
    "Para ayudar a admitir estos escenearios, Pyhton te permite tratar las claves y los valores dentro de un diccionario como una lista. Puedes determinar de manera dinámica las claves y los valores, y realizar varios cálculos.\n",
    "\n",
    "Imagina un diccionario en el que se almacenan cantidades mensuales de precipitaciones. Es probable que tengas claves para cada mes y sus precipitaciones asoiadas. Quieres sumar el total de precipitaciones, y escribir el código para realizar la operación mediante cada clave individual sería bastante tedioso."
   ]
  },
  {
   "cell_type": "markdown",
   "metadata": {},
   "source": [
    "### Recuperación de todas las claves y valores\n",
    "\n",
    "El método `keys()` devuelve un objeto de lista que contiene todas las claves. Puedes usar este método para iterar por todos los elementos del diccionario.\n",
    "\n",
    "Imagina que tiene el siguiente diccionario, en el que se almacenan los últimos tres meses de precipitaciones (rainfall)."
   ]
  },
  {
   "cell_type": "code",
   "execution_count": 36,
   "metadata": {},
   "outputs": [],
   "source": [
    "rainfall = {\n",
    "    'october': 3.5,\n",
    "    'november': 4.2,\n",
    "    'december': 2.1\n",
    "}"
   ]
  },
  {
   "cell_type": "markdown",
   "metadata": {},
   "source": [
    "Imagina que quiere mostrar la lista de todas las precipitaciones. Puedes escribir el nombre de cada mes, pero sería tedioso, en este caso hacemos uso del método `keys()`."
   ]
  },
  {
   "cell_type": "code",
   "execution_count": 37,
   "metadata": {},
   "outputs": [
    {
     "name": "stdout",
     "output_type": "stream",
     "text": [
      "october: 3.5cm\n",
      "november: 4.2cm\n",
      "december: 2.1cm\n"
     ]
    }
   ],
   "source": [
    "for key in rainfall.keys():\n",
    "    print(f'{key}: {rainfall[key]}cm')"
   ]
  },
  {
   "cell_type": "markdown",
   "metadata": {},
   "source": [
    "Para cada clave en las claves(keys()) contenidas en `rainfall`: muestra la clave que estás iterando (meses): así como el valor (número) de la clave que estamos iterando (claves-mes : valor-número) en cm."
   ]
  },
  {
   "cell_type": "markdown",
   "metadata": {},
   "source": [
    "### Determinando la existencia de una clave en un diccionario\n",
    "Al actualizar un valor en un diccionario, Pyhton sobreescribirá el valor existente o creará uno en su defecto, si la clave no existe. Si quieres agregar un valor en lugar de sobreescribirlo, puedes comprobar si la clave existe mediante `in`. Por ejemplo, si quieres agregar un valor a diciembre o crear uno si no existe, puedes usar lo siguiente:"
   ]
  },
  {
   "cell_type": "code",
   "execution_count": 52,
   "metadata": {},
   "outputs": [
    {
     "name": "stdout",
     "output_type": "stream",
     "text": [
      "{'october': 3.5, 'november': 4.2, 'december': 4.1}\n"
     ]
    }
   ],
   "source": [
    "# El valor de december: 2.1cm\n",
    "# Si, 'december' existe en rainfall\n",
    "if 'december' in rainfall:\n",
    "    #rainfall [en la posicion december] es igual a\n",
    "    #rainfall [en la posición december] + 1 (2.1+1)\n",
    "    rainfall['december'] = rainfall['december'] + 1\n",
    "# Si no:\n",
    "else:\n",
    "    # rainfall [en la posición december] es igual a 1\n",
    "    rainfall['december'] = 1\n",
    "# Como december si existe, el valor será 3.1\n",
    "print(rainfall)"
   ]
  },
  {
   "cell_type": "markdown",
   "metadata": {},
   "source": [
    "### Recuperar todos los valores de un diccionario\n",
    "De forma similar a `keys()`, `values()` devuelve la lista de todos los valores de un diccionario sin sus claves correspondientes. Esto puede resultar útil cuando se usa la clave con fines de etiquetado, como en el ejemplo anterior, en el que las claves son el nombre del mes. Puedes usar `values()` pera determinar el importe total de las precipitaciones:"
   ]
  },
  {
   "cell_type": "code",
   "execution_count": 39,
   "metadata": {},
   "outputs": [
    {
     "name": "stdout",
     "output_type": "stream",
     "text": [
      "There was 10.8cm in the last quarter\n"
     ]
    }
   ],
   "source": [
    "# Total de precipitaciones 0\n",
    "total_rainfall = 0\n",
    "\n",
    "# Para cada valor en los valores de rainfall\n",
    "for value in rainfall.values():\n",
    "    # El total de las precipitaciones será igual a ese mismo + el valor que está iterado\n",
    "    total_rainfall = total_rainfall + value\n",
    "# Muestra 'Hay un total de precipitaciones (el valor total) en centímetros en el último (haciendo referencia al cuarto del año)\n",
    "print(f'There was {total_rainfall}cm in the last quarter')"
   ]
  }
 ],
 "metadata": {
  "interpreter": {
   "hash": "7e1998ff7f8aa20ada591c520b972326324e5ea05489af9e422744c7c09f6dad"
  },
  "kernelspec": {
   "display_name": "Python 3.10.2 64-bit",
   "language": "python",
   "name": "python3"
  },
  "language_info": {
   "codemirror_mode": {
    "name": "ipython",
    "version": 3
   },
   "file_extension": ".py",
   "mimetype": "text/x-python",
   "name": "python",
   "nbconvert_exporter": "python",
   "pygments_lexer": "ipython3",
   "version": "3.10.2"
  },
  "orig_nbformat": 4
 },
 "nbformat": 4,
 "nbformat_minor": 2
}
