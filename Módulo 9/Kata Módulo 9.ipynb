{
 "cells": [
  {
   "cell_type": "markdown",
   "metadata": {},
   "source": [
    "# Ejercicio 1: Uso de funciones en Python\n",
    "### Ejercicio 1: Trabajar con argumentos en funciones\n",
    "Los argumentos requeridos en las funciones se utlizan cuando las funciones necesitan que esos argumentos funcionen correctamente. En este ejercicio, construiremos un informe de combustible que requiere información de varias ubicaciones de combustible en todo el cohete.\n",
    "\n",
    "Cominza por crear una funcioón que necesite tres lecturas de combustible y devuelve el informe:"
   ]
  },
  {
   "cell_type": "code",
   "execution_count": 1,
   "metadata": {},
   "outputs": [],
   "source": [
    "# Función para leer 3 tanques de combustible y mostrar el promedio.\n",
    "def info(tank_1, tank_2, tank_3):\n",
    "    average = (tank_1 + tank_2 + tank_3) / 3\n",
    "    return f\"\"\"Info:\n",
    "    Promedio: {average}%\n",
    "    tanque 1: {tank_1}%\n",
    "    tanque 2: {tank_2}%\n",
    "    tanque 3: {tank_3}%\n",
    "    \"\"\""
   ]
  },
  {
   "cell_type": "markdown",
   "metadata": {},
   "source": [
    "Ahora que definimos la función de informes, vamos a comprobarlo. Para esta mision los tanques no están llenos:"
   ]
  },
  {
   "cell_type": "code",
   "execution_count": 4,
   "metadata": {},
   "outputs": [
    {
     "name": "stdout",
     "output_type": "stream",
     "text": [
      "Info:\n",
      "    Promedio: 70.0%\n",
      "    tanque 1: 90%\n",
      "    tanque 2: 70%\n",
      "    tanque 3: 50%\n",
      "    \n"
     ]
    }
   ],
   "source": [
    "# Llamando a la función que genera el reporte de los tanques 1, 2 y 3.\n",
    "print(info(90,70,50))"
   ]
  },
  {
   "cell_type": "markdown",
   "metadata": {},
   "source": [
    "En lugar de simplemente crear el informe, la función también está calculando el promedio. Mejora la legibilidad extrayendo el cálculo prmoedio de la función en una nueva función para que el promedio se pueda hacer de forma independiente:"
   ]
  },
  {
   "cell_type": "code",
   "execution_count": 7,
   "metadata": {},
   "outputs": [],
   "source": [
    "# Funcion promedio.\n",
    "def prom(valor):\n",
    "    Tot = sum(valor)\n",
    "    cantidad_tanques = len(valor)\n",
    "    return Tot / cantidad_tanques\n",
    "    "
   ]
  },
  {
   "cell_type": "code",
   "execution_count": 12,
   "metadata": {},
   "outputs": [
    {
     "name": "stdout",
     "output_type": "stream",
     "text": [
      "60.0\n"
     ]
    }
   ],
   "source": [
    "print(prom([40,60,80]))"
   ]
  },
  {
   "cell_type": "markdown",
   "metadata": {},
   "source": [
    "Ahora actualizaremos la funcion de informes para llamar a la nueva función del promedio:"
   ]
  },
  {
   "cell_type": "code",
   "execution_count": 16,
   "metadata": {},
   "outputs": [],
   "source": [
    "# Actualizar la función promedio en la general\n",
    "def info(tank_1, tank_2, tank_3):\n",
    "    return f\"\"\"Info:\n",
    "    Promedio: {prom([tank_1, tank_2, tank_3])}%\n",
    "    tanque 1: {tank_1}%\n",
    "    tanque 2: {tank_2}%\n",
    "    tanque 3: {tank_3}%\n",
    "    \"\"\""
   ]
  },
  {
   "cell_type": "code",
   "execution_count": 21,
   "metadata": {},
   "outputs": [
    {
     "name": "stdout",
     "output_type": "stream",
     "text": [
      "Info:\n",
      "    Promedio: 36.666666666666664%\n",
      "    tanque 1: 50%\n",
      "    tanque 2: 60%\n",
      "    tanque 3: 0%\n",
      "    \n"
     ]
    }
   ],
   "source": [
    "print(info(50,60,0))"
   ]
  },
  {
   "cell_type": "markdown",
   "metadata": {},
   "source": [
    "# Ejercicio 2: Trabajo con argumentos de palabra clave\n",
    "## Ejercicio 2: Trabajar con argumentos de palabras clave en funciones.\n",
    "En este ejercicio, construirás un informe de cohete que requiere varias piezas de información, como el tiempo hasta el destino, el combustible a la izquierda y el nombre del destino. Comienza por crear una función que creará un informe preciso de la msión:"
   ]
  },
  {
   "cell_type": "code",
   "execution_count": 41,
   "metadata": {},
   "outputs": [],
   "source": [
    "# Función con un informe preciso de la misión. Considera hora de prelanzamiento, tiempo de vuelo, destino, tanque externo y tanque interno.\n",
    "def reporte(tiempo_destino, comb_tk1, comb_tk2, comb_tk3, nombre_destino):\n",
    "    return f\"\"\"\n",
    "    Informe de la Misión a {nombre_destino}.\n",
    "    Tiempo restante para la llegada: {tiempo_destino} minutos.\n",
    "    Cantidad de combustible: {comb_tk1 + comb_tk2 + comb_tk3} Galones.\n",
    "    \"\"\""
   ]
  },
  {
   "cell_type": "code",
   "execution_count": 42,
   "metadata": {},
   "outputs": [
    {
     "name": "stdout",
     "output_type": "stream",
     "text": [
      "\n",
      "    Informe de la Misión a Coloratura.\n",
      "    Tiempo restante para la llegada: 10000 minutos.\n",
      "    Cantidad de combustible: 73100 Galones.\n",
      "    \n"
     ]
    }
   ],
   "source": [
    "print(reporte(10000,60000,13000,100,\"Coloratura\"))"
   ]
  },
  {
   "cell_type": "markdown",
   "metadata": {},
   "source": [
    "La función es problemática porque no se puede adaptar para minutos adicionales o tanques adicionales de combustible. Hazlo más flexible permitiendo cualquier número de pasos basados en el tiempo y cualquier número de tanques. En lugar de usar `*args` y `**kwargs`, aprovecha el hecho de que puedes usar cualquier nombre que desees. Asegurate que la función sea más legible mediante el uso de nombre de variables que están asociados con las entradas, como `*minutes` y `**fuel_reservoirs`:"
   ]
  },
  {
   "cell_type": "code",
   "execution_count": 52,
   "metadata": {},
   "outputs": [
    {
     "name": "stdout",
     "output_type": "stream",
     "text": [
      "\n",
      "    Informe de la misión a Colorature.\n",
      "    Tiempo estimado de llegada: 100 minutos.\n",
      "    Cantidad de combustible de reserva: 73000 Galones.\n",
      "    \n"
     ]
    }
   ],
   "source": [
    "# Escribe tu nueva función de reporte considerando lo anterior.\n",
    "def new_mission(destination, *minutes, **fuel_reservoirs):\n",
    "    return f\"\"\"\n",
    "    Informe de la misión a {destination}.\n",
    "    Tiempo estimado de llegada: {sum(minutes)} minutos.\n",
    "    Cantidad de combustible de reserva: {sum(fuel_reservoirs.values())} Galones.\n",
    "    \"\"\"\n",
    "\n",
    "print(new_mission(\"Colorature\", 50, 30, 20, tk1=60000, tk2=13000))"
   ]
  },
  {
   "cell_type": "markdown",
   "metadata": {},
   "source": [
    "Debido a que el combustible que queda en los tanques es específico de cada tanque, actualiza la función para usar el nombre de cada tanque en el informe:"
   ]
  },
  {
   "cell_type": "code",
   "execution_count": 53,
   "metadata": {},
   "outputs": [
    {
     "name": "stdout",
     "output_type": "stream",
     "text": [
      "\n",
      "    Informe de la misión a Colorature.\n",
      "    Tiempo estimado de llegada: 100 minutos.\n",
      "    Cantidad de combustible de reserva: 73000 Galones.\n",
      "    tk1 tanque --> 60000 galones left\n",
      "tk2 tanque --> 13000 galones left\n",
      "\n"
     ]
    }
   ],
   "source": [
    "# Escribiendo la nueva función\n",
    "def new_mission(destination, *minutes, **fuel_reservoirs):\n",
    "    nm = f\"\"\"\n",
    "    Informe de la misión a {destination}.\n",
    "    Tiempo estimado de llegada: {sum(minutes)} minutos.\n",
    "    Cantidad de combustible de reserva: {sum(fuel_reservoirs.values())} Galones.\n",
    "    \"\"\"\n",
    "    for tk_unit, galones in fuel_reservoirs.items():\n",
    "        nm += f\"{tk_unit} tanque --> {galones} galones left\\n\"\n",
    "    return nm\n",
    "\n",
    "print(new_mission(\"Colorature\", 50, 30, 20, tk1=60000, tk2=13000))\n",
    "        "
   ]
  }
 ],
 "metadata": {
  "interpreter": {
   "hash": "7e1998ff7f8aa20ada591c520b972326324e5ea05489af9e422744c7c09f6dad"
  },
  "kernelspec": {
   "display_name": "Python 3.10.2 64-bit",
   "language": "python",
   "name": "python3"
  },
  "language_info": {
   "codemirror_mode": {
    "name": "ipython",
    "version": 3
   },
   "file_extension": ".py",
   "mimetype": "text/x-python",
   "name": "python",
   "nbconvert_exporter": "python",
   "pygments_lexer": "ipython3",
   "version": "3.10.2"
  },
  "orig_nbformat": 4
 },
 "nbformat": 4,
 "nbformat_minor": 2
}
