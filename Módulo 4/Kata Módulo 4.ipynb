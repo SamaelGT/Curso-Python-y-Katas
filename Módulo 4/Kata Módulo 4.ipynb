{
 "cells": [
  {
   "cell_type": "markdown",
   "metadata": {},
   "source": [
    "# Ejercicio 1: Transformar Cadenas\n",
    "\n",
    "Hay varias operaciones que puedes realizar en las cadenas cuando las manipulamos. En este ejercicio, usarás métodos de cadena para modificar el texto con hechos sobre la Luna y luego extraerás información para crear un breve resumen.\n",
    "\n",
    "El texto con el que trabajaremos es el siguiente:"
   ]
  },
  {
   "cell_type": "code",
   "execution_count": 83,
   "metadata": {},
   "outputs": [
    {
     "data": {
      "text/plain": [
       "['Interesting facts about the Moon',\n",
       " \" The Moon is Earth's only satellite\",\n",
       " ' There are several interesting facts about the Moon and how it affects life here on Earth',\n",
       " ' \\nOn average, the Moon moves 4cm away from the Earth every year',\n",
       " ' This yearly drift is not significant enough to cause immediate effects on Earth',\n",
       " ' The highest daylight temperature of the Moon is 127 C',\n",
       " '']"
      ]
     },
     "execution_count": 83,
     "metadata": {},
     "output_type": "execute_result"
    }
   ],
   "source": [
    "text = \"\"\"Interesting facts about the Moon. The Moon is Earth's only satellite. There are several interesting facts about the Moon and how it affects life here on Earth. \n",
    "On average, the Moon moves 4cm away from the Earth every year. This yearly drift is not significant enough to cause immediate effects on Earth. The highest daylight temperature of the Moon is 127 C.\"\"\"\n",
    "\n",
    "oracion = text.split('.')\n",
    "oracion"
   ]
  },
  {
   "cell_type": "markdown",
   "metadata": {},
   "source": [
    "### Definiendo el banco de palabras"
   ]
  },
  {
   "cell_type": "code",
   "execution_count": 95,
   "metadata": {},
   "outputs": [],
   "source": [
    "key_txt = [\"average\", \"temperature\", \"distance\"]"
   ]
  },
  {
   "cell_type": "markdown",
   "metadata": {},
   "source": [
    "### Generando ciclo"
   ]
  },
  {
   "cell_type": "code",
   "execution_count": 99,
   "metadata": {},
   "outputs": [
    {
     "name": "stdout",
     "output_type": "stream",
     "text": [
      "oracion: Interesting facts about the Moon\n",
      "palabra clave: Interesting facts about the Moon\n",
      "Encontrada: average\n",
      "oracion:  The Moon is Earth's only satellite\n",
      "palabra clave:  The Moon is Earth's only satellite\n",
      "Encontrada: average\n",
      "oracion:  There are several interesting facts about the Moon and how it affects life here on Earth\n",
      "palabra clave:  There are several interesting facts about the Moon and how it affects life here on Earth\n",
      "Encontrada: average\n",
      "oracion:  \n",
      "On average, the Moon moves 4cm away from the Earth every year\n",
      "palabra clave:  \n",
      "On average, the Moon moves 4cm away from the Earth every year\n",
      "Encontrada: average\n",
      "oracion:  This yearly drift is not significant enough to cause immediate effects on Earth\n",
      "palabra clave:  This yearly drift is not significant enough to cause immediate effects on Earth\n",
      "Encontrada: average\n",
      "oracion:  The highest daylight temperature of the Moon is 127 C\n",
      "palabra clave:  The highest daylight temperature of the Moon is 127 C\n",
      "Encontrada: average\n",
      "oracion: \n",
      "palabra clave: \n",
      "Encontrada: average\n",
      " \n",
      "On average, the Moon moves 4cm away from the Earth every year\n",
      " The highest daylight temperature of the Moon is 127 Celsius\n"
     ]
    }
   ],
   "source": [
    "for key in oracion:\n",
    "    print(\"oracion: \" + key)\n",
    "    for txt in key_txt:\n",
    "        print(\"palabra clave: \" + key)\n",
    "        if key in oracion:\n",
    "            print(\"Encontrada: \" + txt)\n",
    "            break\n",
    "\n",
    "for txt in oracion:\n",
    "    for key in key_txt:\n",
    "        if key in txt:\n",
    "            print(txt.replace(' C', ' Celsius'))"
   ]
  },
  {
   "cell_type": "markdown",
   "metadata": {},
   "source": [
    "# Ejercicio 2: Formateando Cadenas\n",
    "\n",
    "Saber cómo dar formato a las cadenas es esencial cuando se presenta información de un programa. Hay algunas maneras diferentes de lograr esto en Pyhton. En este ejercicio, se utilizaran variables que contienen datos clave sobre la gravedad en varias lunas y luego se utilizan para dar formato e imprimir la información.\n",
    "\n",
    "El formato tiene que acomodar información sobre otras lunas, por lo que debe ser genérico.\n",
    "\n",
    "En lugar de reemplazar las variables en una cadena larga como parte de un párrafo, utiliza la información para presentarla en un formato tabular."
   ]
  },
  {
   "cell_type": "code",
   "execution_count": 18,
   "metadata": {},
   "outputs": [],
   "source": [
    "Name = \"Moon\"\n",
    "Gravity = 0.00162\n",
    "Units = \"m/s^2\"\n",
    "Planet = \"Earth\"\n",
    "Unpla = 9.807"
   ]
  },
  {
   "cell_type": "code",
   "execution_count": 6,
   "metadata": {},
   "outputs": [
    {
     "name": "stdout",
     "output_type": "stream",
     "text": [
      "Gravity on the Earth and on the Moon\n"
     ]
    }
   ],
   "source": [
    "Title = f'Gravity on the {Planet} and on the {Name}'\n",
    "print(Title)"
   ]
  },
  {
   "cell_type": "code",
   "execution_count": 34,
   "metadata": {},
   "outputs": [
    {
     "name": "stdout",
     "output_type": "stream",
     "text": [
      "--------------------------------------------------------------------------------\n",
      "Name planet: Moon          \n",
      "Gravity on Moon: 1.62 m/s^2\n",
      "\n"
     ]
    }
   ],
   "source": [
    "Body = f\"\"\"{'-'*80}\n",
    "Name planet: {Name}          \n",
    "Gravity on {Name}: {round(Gravity * 1000, 2)} {Units}\n",
    "\"\"\"\n",
    "\n",
    "print(Body)"
   ]
  },
  {
   "cell_type": "code",
   "execution_count": 35,
   "metadata": {},
   "outputs": [
    {
     "name": "stdout",
     "output_type": "stream",
     "text": [
      "Gravity On The Earth And On The Moon\n",
      "--------------------------------------------------------------------------------\n",
      "Name planet: Moon          \n",
      "Gravity on Moon: 1.62 m/s^2\n",
      "\n",
      "\n"
     ]
    }
   ],
   "source": [
    "Template = f\"\"\"{Title.title()}\n",
    "{Body}\n",
    "\"\"\"\n",
    "print(Template)"
   ]
  },
  {
   "cell_type": "code",
   "execution_count": 36,
   "metadata": {},
   "outputs": [],
   "source": [
    "# Nuevos datos muestra:\n",
    "planeta = 'Marte '\n",
    "gravedad = 0.00143\n",
    "nombre = 'Ganímedes'"
   ]
  },
  {
   "cell_type": "code",
   "execution_count": 37,
   "metadata": {},
   "outputs": [
    {
     "name": "stdout",
     "output_type": "stream",
     "text": [
      "Gravity On The Earth And On The Moon\n",
      "--------------------------------------------------------------------------------\n",
      "Name planet: Moon          \n",
      "Gravity on Moon: 1.62 m/s^2\n",
      "\n",
      "\n"
     ]
    }
   ],
   "source": [
    "# Comprobando Template\n",
    "print(Template)"
   ]
  },
  {
   "cell_type": "code",
   "execution_count": 44,
   "metadata": {},
   "outputs": [
    {
     "name": "stdout",
     "output_type": "stream",
     "text": [
      "\n",
      "Datos de Gravedad: Ganímedes\n",
      "-------------------------------------------------------------------------------\n",
      "Nombre del planeta: Marte \n",
      "Gravedad en Ganímedes: 1.43 m/s^2\n",
      "\n"
     ]
    }
   ],
   "source": [
    "NTemplate = \"\"\"\n",
    "Datos de Gravedad: {nombre}\n",
    "-------------------------------------------------------------------------------\n",
    "Nombre del planeta: {planeta}\n",
    "Gravedad en {nombre}: {gravedad} m/s^2\n",
    "\"\"\"\n",
    "print(NTemplate.format(nombre=nombre, planeta=planeta, gravedad=round(gravedad*1000, 2)))\n"
   ]
  }
 ],
 "metadata": {
  "interpreter": {
   "hash": "7e1998ff7f8aa20ada591c520b972326324e5ea05489af9e422744c7c09f6dad"
  },
  "kernelspec": {
   "display_name": "Python 3.10.2 64-bit",
   "language": "python",
   "name": "python3"
  },
  "language_info": {
   "codemirror_mode": {
    "name": "ipython",
    "version": 3
   },
   "file_extension": ".py",
   "mimetype": "text/x-python",
   "name": "python",
   "nbconvert_exporter": "python",
   "pygments_lexer": "ipython3",
   "version": "3.10.2"
  },
  "orig_nbformat": 4
 },
 "nbformat": 4,
 "nbformat_minor": 2
}
