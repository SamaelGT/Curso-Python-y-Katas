{
 "cells": [
  {
   "cell_type": "markdown",
   "metadata": {},
   "source": [
    "# Expresiones de prueba"
   ]
  },
  {
   "cell_type": "code",
   "execution_count": 7,
   "metadata": {},
   "outputs": [],
   "source": [
    "# Tip de práctica 1: Intenta ejecutarlo en un Notebook\n",
    "a = 97\n",
    "b = 55\n",
    "# test expression / expresión de prueba\n",
    "if a < b:\n",
    "    #statement to be run / instrucción a ejecutar\n",
    "    print(b)\n",
    "    "
   ]
  },
  {
   "cell_type": "markdown",
   "metadata": {},
   "source": [
    "Escribir declaraciones \"if\""
   ]
  },
  {
   "cell_type": "code",
   "execution_count": 8,
   "metadata": {},
   "outputs": [
    {
     "ename": "IndentationError",
     "evalue": "expected an indented block after 'if' statement on line 1 (1945817259.py, line 2)",
     "output_type": "error",
     "traceback": [
      "\u001b[0;36m  Input \u001b[0;32mIn [8]\u001b[0;36m\u001b[0m\n\u001b[0;31m    # instrucción(es) a ejecutar\u001b[0m\n\u001b[0m                                ^\u001b[0m\n\u001b[0;31mIndentationError\u001b[0m\u001b[0;31m:\u001b[0m expected an indented block after 'if' statement on line 1\n"
     ]
    }
   ],
   "source": [
    "if expresion_prueba:\n",
    "    # instrucción(es) a ejecutar"
   ]
  },
  {
   "cell_type": "markdown",
   "metadata": {},
   "source": [
    "Tipo de práctica 2: Antes de ejecutarlo en un notebook, intenta deducir cuál será el resultado y compruébalo."
   ]
  },
  {
   "cell_type": "code",
   "execution_count": 9,
   "metadata": {},
   "outputs": [
    {
     "name": "stdout",
     "output_type": "stream",
     "text": [
      "93\n"
     ]
    }
   ],
   "source": [
    "# Aplica el tip de la práctica 1.\n",
    "a = 93\n",
    "b = 27\n",
    "if a >= b:\n",
    "    print(a)\n"
   ]
  },
  {
   "cell_type": "markdown",
   "metadata": {},
   "source": [
    "Tips de práctica 1 y 2"
   ]
  },
  {
   "cell_type": "code",
   "execution_count": 10,
   "metadata": {},
   "outputs": [
    {
     "name": "stdout",
     "output_type": "stream",
     "text": [
      "44\n"
     ]
    }
   ],
   "source": [
    "a = 24\n",
    "b = 44\n",
    "if a <= 0:\n",
    "    print(a)\n",
    "print(b)"
   ]
  },
  {
   "cell_type": "markdown",
   "metadata": {},
   "source": [
    "# ¿Qué son las declaraciones \"esle\" y \"elif\"?"
   ]
  },
  {
   "cell_type": "markdown",
   "metadata": {},
   "source": [
    "Cuando utilizas una instrucción, el cuerpo del programa sólo se ejecutará si la expresión de prueba es True. Para agregar más codigo que se ejecutará cuando la expresión de prueba sea False, debes agregar una instrucción else.\n",
    "Volvamos al ejemplo de la sección anterior:"
   ]
  },
  {
   "cell_type": "code",
   "execution_count": 14,
   "metadata": {},
   "outputs": [
    {
     "name": "stdout",
     "output_type": "stream",
     "text": [
      "93\n"
     ]
    }
   ],
   "source": [
    "a = 93\n",
    "b = 27\n",
    "if a >= b:\n",
    "    print(a)\n",
    "else:\n",
    "    print(b)"
   ]
  },
  {
   "cell_type": "markdown",
   "metadata": {},
   "source": [
    "Si la expresón de prueba es False, se omite el código del cuerpo de la instrucción if y el programa continúa ejecutándose desde la instruccion else. La sintaxis de una instrucción if/else es siempre:"
   ]
  },
  {
   "cell_type": "code",
   "execution_count": null,
   "metadata": {},
   "outputs": [],
   "source": [
    "if expresion_prueba:\n",
    "    # instrucción(es) a ejecutar\n",
    "else:\n",
    "    # instrucción(es) a ejecutar"
   ]
  },
  {
   "cell_type": "markdown",
   "metadata": {},
   "source": [
    "# Trabajando con elif"
   ]
  },
  {
   "cell_type": "markdown",
   "metadata": {},
   "source": [
    "En python, la palabra clave elif es la abreviatura de else if. El uso de instrucciones elif te permite agregar varias expresiones de prueba al programa. Estas instrucciones se ejecutan en el orden en que están escritas, por lo que el programa ingresará una instrucción elif solo si la priera instrucción if es False. Por ejemplo:"
   ]
  },
  {
   "cell_type": "code",
   "execution_count": 15,
   "metadata": {},
   "outputs": [
    {
     "name": "stdout",
     "output_type": "stream",
     "text": [
      "a es mayor o igual que b\n"
     ]
    }
   ],
   "source": [
    "a = 93\n",
    "b = 27\n",
    "if a >= b:\n",
    "    print(\"a es mayor o igual que b\")\n",
    "elif a == b:\n",
    "    print(\"a es igual que b\")"
   ]
  },
  {
   "cell_type": "markdown",
   "metadata": {},
   "source": [
    "Así se lee la expresion"
   ]
  },
  {
   "cell_type": "code",
   "execution_count": null,
   "metadata": {},
   "outputs": [],
   "source": [
    "if expresion_prueba:\n",
    "    # instrucción(es) a ejecutar\n",
    "elif expresion_prueba:\n",
    "    # instrucción(es) a ejecutar"
   ]
  },
  {
   "cell_type": "markdown",
   "metadata": {},
   "source": [
    "## Combinar declaraciones if, elif, y else"
   ]
  },
  {
   "cell_type": "markdown",
   "metadata": {},
   "source": [
    "Puedes combinar sentencias ```if```, ```elif```, y ```else``` para crear programas con lógicas condicionales compleja. Recuerda que una instrucción ```elif``` sólo se ejecuta cuando la condición ```if``` es ```False```. También ten en cuenta que un bloque ```if``` puede tener solo un bloque ```else```,\n",
    "pero pueden tener varios bloques ```elif```.\n",
    "\n",
    "Veamos el ejemplo de nuevo con una declaración ```elif``` añadida:"
   ]
  },
  {
   "cell_type": "code",
   "execution_count": 16,
   "metadata": {},
   "outputs": [
    {
     "name": "stdout",
     "output_type": "stream",
     "text": [
      "a es mayor que b\n"
     ]
    }
   ],
   "source": [
    "a = 93\n",
    "b = 27\n",
    "if a > b:\n",
    "    print(\"a es mayor que b\")\n",
    "elif a < b:\n",
    "    print(\"a es menor que b\")\n",
    "else:\n",
    "    print(\"a es igual que b\")"
   ]
  },
  {
   "cell_type": "markdown",
   "metadata": {},
   "source": [
    "Asi se lee:"
   ]
  },
  {
   "cell_type": "code",
   "execution_count": null,
   "metadata": {},
   "outputs": [],
   "source": [
    "if exresion_prueba:\n",
    "    # instrucción(es) a ejecutar\n",
    "elif expresion_prueba:\n",
    "    # instrucción(es) a ejecutar\n",
    "else:\n",
    "    # instrucción(es) a ejecutar\n"
   ]
  },
  {
   "cell_type": "markdown",
   "metadata": {},
   "source": [
    "## Trabajar con lógica condicional anidada"
   ]
  },
  {
   "cell_type": "markdown",
   "metadata": {},
   "source": [
    "Python también admite lógica condicional anidada, lo que significa que puedes anidar sentencias ```if```, ```elif```, y ```else```, para crear programas aún más complejos. Para anidar condiciones, indenta las condiciones internas y todo lo que esté en el mismo nivel de sangría se ejecutará en el mismo bloque de código:"
   ]
  },
  {
   "cell_type": "code",
   "execution_count": 18,
   "metadata": {},
   "outputs": [
    {
     "name": "stdout",
     "output_type": "stream",
     "text": [
      "a es menor que b\n"
     ]
    }
   ],
   "source": [
    "a = 16\n",
    "b = 25\n",
    "c = 27\n",
    "if a > b:\n",
    "    if b > c:\n",
    "        print (\"a es mayor que b y b es mayor que c\")\n",
    "    else:\n",
    "        print (\"a es mayor que b y menor que c\")\n",
    "elif a == b:\n",
    "    print(\"a es igual que b\")\n",
    "else:\n",
    "    print(\"a es menor que b\")"
   ]
  },
  {
   "cell_type": "markdown",
   "metadata": {},
   "source": [
    "# ¿Qué son los operadores 'and' y 'or'?"
   ]
  },
  {
   "cell_type": "markdown",
   "metadata": {},
   "source": [
    "Posiblemente deseemos combinar expresiones de prueba para evaluar varias condiciones ```if```, ```elif```, y ```else``` en una instrucción. Para ello, utilizamos los operadores booleanos ```and``` y ```or```."
   ]
  },
  {
   "cell_type": "markdown",
   "metadata": {},
   "source": [
    "### El operador ```or```"
   ]
  },
  {
   "cell_type": "markdown",
   "metadata": {},
   "source": [
    "Conecta dos expresiones booleanas o de prueba mediante el operador booleano ```or```. Para que toda la expresión se evalúe en ```True```, al menos una subexpresion debe ser verdadera. Si ninguna de las subexpresiones es verdadera, toda la expresión se evalúa en ```False```. Por ejemplo, en la siguiente expresión, toda la expresión de prueba se evalúa en ```True```, porque se ha cumplido una de las condiciones de la subexpresion:"
   ]
  },
  {
   "cell_type": "code",
   "execution_count": 19,
   "metadata": {},
   "outputs": [
    {
     "name": "stdout",
     "output_type": "stream",
     "text": [
      "57\n"
     ]
    }
   ],
   "source": [
    "a = 23\n",
    "b = 34\n",
    "if a == 34 or b == 34:\n",
    "    print(a + b)"
   ]
  },
  {
   "cell_type": "markdown",
   "metadata": {},
   "source": [
    "### Operador ```and```"
   ]
  },
  {
   "cell_type": "code",
   "execution_count": 26,
   "metadata": {},
   "outputs": [],
   "source": [
    "a = 15\n",
    "b = 86\n",
    "if a == 86 and b == 86:\n",
    "    print (a + b)"
   ]
  },
  {
   "cell_type": "markdown",
   "metadata": {},
   "source": [
    "### Diferencia entre ```and``` y ```or```"
   ]
  },
  {
   "cell_type": "markdown",
   "metadata": {},
   "source": [
    "Para diferenciarlos entre los operadores tenemos 2 tablas."
   ]
  },
  {
   "cell_type": "markdown",
   "metadata": {},
   "source": [
    "#### and\n",
    "subex1 | operador | subex2 | resultado\n",
    "------ | -------- | -------- | --------        \n",
    " ```True``` | ```and``` | ```True``` | ``True``   \n",
    " ```True``` | ```and``` | ```False``` | ``False`` \n",
    " ```False``` | ```and``` | ```True``` | ``False`` \n",
    " ```False``` | ```and``` | ```False``` | ``False`` "
   ]
  },
  {
   "cell_type": "markdown",
   "metadata": {},
   "source": [
    "#### or\n",
    "\n",
    "subex1 | operador | subex2 | resultado\n",
    "------ | -------- | ------- | --------\n",
    "`True` | `or`  | `True` | `True`\n",
    "`True` | `or` | `False` | `True`\n",
    "`False` | `or` | `True` | `True`\n",
    "`False` | `or` | `True` | `False`\n"
   ]
  }
 ],
 "metadata": {
  "interpreter": {
   "hash": "7e1998ff7f8aa20ada591c520b972326324e5ea05489af9e422744c7c09f6dad"
  },
  "kernelspec": {
   "display_name": "Python 3.10.2 64-bit",
   "language": "python",
   "name": "python3"
  },
  "language_info": {
   "codemirror_mode": {
    "name": "ipython",
    "version": 3
   },
   "file_extension": ".py",
   "mimetype": "text/x-python",
   "name": "python",
   "nbconvert_exporter": "python",
   "pygments_lexer": "ipython3",
   "version": "3.10.2"
  },
  "orig_nbformat": 4
 },
 "nbformat": 4,
 "nbformat_minor": 2
}
