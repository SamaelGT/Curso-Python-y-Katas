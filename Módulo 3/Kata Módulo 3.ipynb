{
 "cells": [
  {
   "cell_type": "markdown",
   "metadata": {},
   "source": [
    "# Ejercicio - Escribir declaraciones `if`, `else`, y `elif`"
   ]
  },
  {
   "cell_type": "markdown",
   "metadata": {},
   "source": [
    "### La velocidad del asteroide varía dependiendo de lo cerca que esté del sol, y cualquier velocidad superior a 25 Km/s merece una advertencia.\n",
    "### Un asteroide se acerca, y viaja a una velocidad de 49 km/s."
   ]
  },
  {
   "cell_type": "code",
   "execution_count": null,
   "metadata": {},
   "outputs": [],
   "source": [
    "#Añadir el código necesario para crear una variable que guard la velocidad del asteroide.\n",
    "#Escribir una expresión de prueba para calcular si necesita una adverencia.\n",
    "#Agregue las instrucciones que se ejecutarán si la expresión de prueba es true o false."
   ]
  },
  {
   "cell_type": "code",
   "execution_count": 31,
   "metadata": {},
   "outputs": [
    {
     "name": "stdout",
     "output_type": "stream",
     "text": [
      "PELIGRO ASTEROIDE A GRAN VELOCIDAD\n"
     ]
    }
   ],
   "source": [
    "x = 25\n",
    "z = 'Km/s'\n",
    "if x >= 25:\n",
    "    print(\"PELIGRO ASTEROIDE A GRAN VELOCIDAD\")\n",
    "elif x < 25:\n",
    "    print(\"Asteroide aproximandose a baja velocidad\")"
   ]
  },
  {
   "cell_type": "markdown",
   "metadata": {},
   "source": [
    "### Si un asteroide entra en la atmósfera de la Tierra a una velocidad mayor o igual a 20 Km/s, a veces produce un rayo de luz que se puede ver desde la Tierra. Escribe la lógica condicional que usa declaraciones `if`, `else`, y `elif` para alertar a las personas de todo el mundo que deben buscar un asteroide en el cielo.\n",
    "\n",
    "### ¡Hay uno que se dirige a la Tierra ahora a una velocidad de 19 Km/s!"
   ]
  },
  {
   "cell_type": "code",
   "execution_count": null,
   "metadata": {},
   "outputs": [],
   "source": [
    "#Agrega el código para crear una variable para un asteroide a 19 Km/s.\n",
    "#Escribe varias expresiones de prueba para determinar si puedes ver el rayo de luz desde la tierra.\n",
    "#Agrega las instrucciones que se ejecutaran si las expresiones de prueba son True o False."
   ]
  },
  {
   "cell_type": "code",
   "execution_count": 34,
   "metadata": {},
   "outputs": [
    {
     "name": "stdout",
     "output_type": "stream",
     "text": [
      "En estos momentos se puede apreciar un rayo de luz generado por un asteroide\n"
     ]
    }
   ],
   "source": [
    "x = 20\n",
    "if x >= 20:\n",
    "    print(\"En estos momentos se puede apreciar un rayo de luz generado por un asteroide\")\n",
    "elif x < 20:\n",
    "    print(\"A pasado un asteroide, debido a su baja velocidad no es detectado a simple vista\")\n",
    "else:\n",
    "    print(\"Por aqui no a pasado nada\")"
   ]
  },
  {
   "cell_type": "markdown",
   "metadata": {},
   "source": [
    "# Ejercicio: Uso de operadores `and` y `or`"
   ]
  },
  {
   "cell_type": "markdown",
   "metadata": {},
   "source": [
    "En este ejercicio aprenderemos mas sobre cuándo los asteroides representan un peligro para la Tierra, y utilizarás esa información para mejorar nuestro sistema de advertencia. Aquí está la nueva información que necesitas saber:\n",
    "\n",
    "* Los asteroides de menos de 25 metros en su dimensión más grande probablemente se quemarán a medida que entren en la atmósfera de la Tierra.\n",
    "\n",
    "* Si una pieza de un asteroide que es más grande que 25 metros pero más pequeña que 1000 metros golpeara la Tierra, causaría mucho daño.\n",
    "\n",
    "Tambien discutimos en el ejericio anterior que:\n",
    "\n",
    "* La velocidad del asteroide varía en función de lo cerca que esté del sol, y cualquier velocidad superior a 25 Kilómetros por segundo (Km/s) merece una advertencia.\n",
    "* Si un asteroide entra en la atmósfera de la Tierra a una velocidad mayor o igual a 20 Km/s, a veces produce un rayo de luz que se puede ver desde la Tierra.\n",
    "\n",
    "Usando toda esta información, escribe un programa que emita la advertencia o información correcta a la gente de la Tierra, según la velocidad y el tamaño de un asteroide. Utiliza instrucciones `if`, `else`, y `elif`, así como los operadores `and` y `or`."
   ]
  },
  {
   "cell_type": "code",
   "execution_count": 40,
   "metadata": {},
   "outputs": [
    {
     "name": "stdout",
     "output_type": "stream",
     "text": [
      "PELIGRO, un asteroide golpeara la tierra\n"
     ]
    }
   ],
   "source": [
    "v = 26\n",
    "m = 800\n",
    "if v > 25 and m > 25:\n",
    "    print(\"PELIGRO, un asteroide golpeara la tierra\")\n",
    "elif v >= 20:\n",
    "    print(\"Acaba de pasar un asteroide que a dejado un rayo de luz visible\")\n",
    "elif m < 25:\n",
    "    print(\"Ni se llega a ver\")\n",
    "else:\n",
    "    print(\"Nada que ver\")"
   ]
  }
 ],
 "metadata": {
  "interpreter": {
   "hash": "7e1998ff7f8aa20ada591c520b972326324e5ea05489af9e422744c7c09f6dad"
  },
  "kernelspec": {
   "display_name": "Python 3.10.2 64-bit",
   "language": "python",
   "name": "python3"
  },
  "language_info": {
   "codemirror_mode": {
    "name": "ipython",
    "version": 3
   },
   "file_extension": ".py",
   "mimetype": "text/x-python",
   "name": "python",
   "nbconvert_exporter": "python",
   "pygments_lexer": "ipython3",
   "version": "3.10.2"
  },
  "orig_nbformat": 4
 },
 "nbformat": 4,
 "nbformat_minor": 2
}
