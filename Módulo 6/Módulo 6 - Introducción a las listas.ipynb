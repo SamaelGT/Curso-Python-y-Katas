{
 "cells": [
  {
   "cell_type": "markdown",
   "metadata": {},
   "source": [
    "# Introducción\n",
    "Como desarrollador, con frecuencia trabajarás con conjuntos de datos. Es posible que debas administrar varios nombres, edades o direcciones. Almacenar cada valor en una variable individual hace que el código sea más dificl de leer y escribir. Para almacenar varios valores, puedes usar una lista de Pyhton."
   ]
  },
  {
   "cell_type": "markdown",
   "metadata": {},
   "source": [
    "## Introducción a las listas\n",
    "\n",
    "Pyhton tiene muchos tipos integrados, como cadenas y enteros. Pyhton tiene un tipo para almacenar una colección de valores: la lista."
   ]
  },
  {
   "cell_type": "markdown",
   "metadata": {},
   "source": [
    "### Crear una lista\n",
    "\n",
    "Para crear una lista, asigne una secuencia de valores a una variable. Cada valor está separado por una coma y rodeado por corchetes ([]). En el ejemplo siguiente se almacena la lista de todos los planetas de la variable `planets`:"
   ]
  },
  {
   "cell_type": "code",
   "execution_count": 1,
   "metadata": {},
   "outputs": [],
   "source": [
    "planets = ['Mercury', 'Venus', 'Earth', 'Mars', 'Jupiter', 'Saturn', 'Uranus', 'Neptune']"
   ]
  },
  {
   "cell_type": "markdown",
   "metadata": {},
   "source": [
    "### Acceder a elementos de lista por índice\n",
    "\n",
    "Puedes acceder a cualquier elemento de una lista poniendo el $index$/$índice$ entre `[]` después del nombre de la variable de lista. Los índices comienzan desde 0, por lo que en el siguiente código `planets[0]`, es el primer elemento de la lista `planets`:"
   ]
  },
  {
   "cell_type": "code",
   "execution_count": 2,
   "metadata": {},
   "outputs": [
    {
     "name": "stdout",
     "output_type": "stream",
     "text": [
      "The first planet is Mercury\n",
      "The second planets is Venus\n",
      "The third planet is Earth\n"
     ]
    }
   ],
   "source": [
    "print('The first planet is', planets[0])\n",
    "print('The second planets is', planets[1])\n",
    "print('The third planet is', planets[2])"
   ]
  },
  {
   "cell_type": "markdown",
   "metadata": {},
   "source": [
    "`NOTA:` Todos lso índices inican en 0, es decir en la posición 0 de la lista de planets, es Mercury, en la posición 1 el elemento es Venus y así sucesivamente.\n",
    "\n",
    "También puedes modificar los valores de una lista mediante un índice. Lo hacemos asignando un nuevo valor, de la misma manera que asignaría un valor a una variable.\n",
    "Por ejemplo, podrías cambiar el nombre de Marte en la lista para usar su apodo:"
   ]
  },
  {
   "cell_type": "code",
   "execution_count": 3,
   "metadata": {},
   "outputs": [
    {
     "name": "stdout",
     "output_type": "stream",
     "text": [
      "Mars is also know as Red Planet\n"
     ]
    }
   ],
   "source": [
    "planets[3] = 'Red Planet'\n",
    "print('Mars is also know as', planets[3])"
   ]
  },
  {
   "cell_type": "markdown",
   "metadata": {},
   "source": [
    "### Determinar la longitud de una lista\n",
    "Para obterner la longitud de una lista, utilice la función integrada `len`. El código siguiente crea una nueva variable, `number_of_planetsplanets`. El código asigna a esa variable el número de elementos de la lista `planets` (8 planetas)."
   ]
  },
  {
   "cell_type": "code",
   "execution_count": 4,
   "metadata": {},
   "outputs": [
    {
     "name": "stdout",
     "output_type": "stream",
     "text": [
      "There are 8 planets in the solar system.\n"
     ]
    }
   ],
   "source": [
    "number_of_planets = len(planets)\n",
    "print('There are', number_of_planets, 'planets in the solar system.')"
   ]
  },
  {
   "cell_type": "markdown",
   "metadata": {},
   "source": [
    "### Agregar valores a listas\n",
    "Las listas en Pyhton son dinámicas. Es decir, puedes agregar y eliminar elementos después de crearlos. Para agregar un elemento a una lista, utilice el método `.append(value)`.\n",
    "\n",
    "Por ejemplo, el código siguiente agrega la cadena `'Pluto`al final de la lista `planets`:"
   ]
  },
  {
   "cell_type": "code",
   "execution_count": 5,
   "metadata": {},
   "outputs": [
    {
     "name": "stdout",
     "output_type": "stream",
     "text": [
      "There are actually 9 planets in the solar system\n"
     ]
    }
   ],
   "source": [
    "planets.append('Pluto')\n",
    "number_of_planets = len(planets)\n",
    "print('There are actually', number_of_planets, 'planets in the solar system')"
   ]
  },
  {
   "cell_type": "markdown",
   "metadata": {},
   "source": [
    "### Eliminar valores de una lista\n",
    "Puedes eliminar el último elemento de una lista llamando al método`.pop()`de la variable de lista:"
   ]
  },
  {
   "cell_type": "code",
   "execution_count": 6,
   "metadata": {},
   "outputs": [
    {
     "name": "stdout",
     "output_type": "stream",
     "text": [
      "No, there are definitely 8 planets in the solar system\n"
     ]
    }
   ],
   "source": [
    "planets.pop()\n",
    "number_of_planets = len(planets)\n",
    "print('No, there are definitely', number_of_planets, 'planets in the solar system')"
   ]
  },
  {
   "cell_type": "markdown",
   "metadata": {},
   "source": [
    "### Índices negativos\n",
    "Hasta ahora hemos visto cómo usar índices para obtener un elemento individual de una lista:"
   ]
  },
  {
   "cell_type": "code",
   "execution_count": 7,
   "metadata": {},
   "outputs": [
    {
     "name": "stdout",
     "output_type": "stream",
     "text": [
      "The first planet is Mercury\n"
     ]
    }
   ],
   "source": [
    "print(\"The first planet is\", planets[0])"
   ]
  },
  {
   "cell_type": "markdown",
   "metadata": {},
   "source": [
    "Los índices comienzan en cero y aumentan. Los índices negativos comienzan al final de la lista y trabajan hacia atrás.\n",
    "\n",
    "En el ejemplo siguiente, un indice de `-1` devuelve el último elemento de una lista.\n",
    "Un índice de `-2` retorna al penúltimo al último."
   ]
  },
  {
   "cell_type": "code",
   "execution_count": 8,
   "metadata": {},
   "outputs": [
    {
     "name": "stdout",
     "output_type": "stream",
     "text": [
      "The last planet is Neptune\n",
      "The penultimate planet is Uranus\n"
     ]
    }
   ],
   "source": [
    "print('The last planet is', planets[-1])\n",
    "print('The penultimate planet is', planets[-2])"
   ]
  },
  {
   "cell_type": "markdown",
   "metadata": {},
   "source": [
    "Si quisieras devolver del tercero al últim, usarías un índice de `-3` (y así sucesivamente)."
   ]
  },
  {
   "cell_type": "markdown",
   "metadata": {},
   "source": [
    "### Buscar un valor en una lista.\n",
    "Para determinar en qué parte de una lista se almacena un valor, utilizamos el método `index()` de la lista. Este método busca e valor y devuelve el índice de ese elemento en la lista. Si no encuentra una coincidencia, devuelve `-1`.\n",
    "\n",
    "En el siguiente ejemplo se muestra el uso de `'Jupiter` como el valor del índice:"
   ]
  },
  {
   "cell_type": "code",
   "execution_count": 9,
   "metadata": {},
   "outputs": [
    {
     "name": "stdout",
     "output_type": "stream",
     "text": [
      "Jupiter is the 5 planets from the sun\n"
     ]
    }
   ],
   "source": [
    "jupiter_index = planets.index('Jupiter')\n",
    "print('Jupiter is the', jupiter_index +1, 'planets from the sun')\n",
    "\n",
    "# Coloco el `+1` para ajustar el listado y no contar desde el 0"
   ]
  },
  {
   "cell_type": "markdown",
   "metadata": {},
   "source": [
    "## Trabajar con números en listas\n",
    "Hasta ahora , has estado usando nombres de planetas en una lista. Es posible que te preguntes acerca de trabajar con otros tipos de datos, como números.\n",
    "\n",
    "¿Sabías que la gravedad en otros planestas es más fuerte o más débil dependiendo de la masa o el tamaño del planeta? La gravedad a menudo se mide en G, donde la gravedad en la Tierra es 1 y otros planetas se miden en relacion con la Tierra.\n",
    "\n",
    "La gravedad en la luna es de 0,166 G, por lo que los astronautas pueden saltar tan alto en la luna. La gravedad en Neptuno es de 1,12 G, por lo que saltar es más difícil.\n",
    "Incluso los atletas olímpicos tendrían dificultades para saltar más de 2 metros sobre Neptuno."
   ]
  },
  {
   "cell_type": "markdown",
   "metadata": {},
   "source": [
    "### Almacenar números en listas\n",
    "Para almacenar números con decimales en Pyhton, utilizamos el tipo`float`. Para crear un float, introduza el número con el decimal y asígnelo a una variable:"
   ]
  },
  {
   "cell_type": "code",
   "execution_count": 10,
   "metadata": {},
   "outputs": [],
   "source": [
    "gravity_on_earth = 1.0\n",
    "gravity_on_the_moon = 0.166"
   ]
  },
  {
   "cell_type": "markdown",
   "metadata": {},
   "source": [
    "En el siguiente código creamos una lista que muestra las fuerzas gravitacionales de los ocho planetas del sistema solar, en G:"
   ]
  },
  {
   "cell_type": "code",
   "execution_count": 11,
   "metadata": {},
   "outputs": [],
   "source": [
    "gravity_on_planets = [0.378, 0.907, 1, 0.379, 2.36, 0.916, 0.889, 1.12]"
   ]
  },
  {
   "cell_type": "markdown",
   "metadata": {},
   "source": [
    "En esta lista, `gravity_on_planets[0]` está la gravedad en Mercurio (0.378 G), `gravity_on_planets[1]` es la gravedad en Venus (0.907 G), y así sucesivamente.\n",
    "\n",
    "En la Tierra, un autobús de dos tipos pesa 12,650 Kilogramos (Kg), que es 12.65 Ton multiplicadas por 0.378. En Pyhton, para multiplicar dos valores, se utiliza el simbolo `*`.\n",
    "\n",
    "En el siguiente ejemplo, puedes calcular el peso de un bus de dos pisos en diferentes planetas obteniendo el valor de la lista:"
   ]
  },
  {
   "cell_type": "code",
   "execution_count": 12,
   "metadata": {},
   "outputs": [
    {
     "name": "stdout",
     "output_type": "stream",
     "text": [
      "On Earth, a double-decker bus weighs 12650 Kg\n",
      "On Mercury, a double-decker bus weighs 4781.7 Kg\n"
     ]
    }
   ],
   "source": [
    "bus_weight = 12650\n",
    "\n",
    "print('On Earth, a double-decker bus weighs',bus_weight, 'Kg')\n",
    "print('On Mercury, a double-decker bus weighs', bus_weight * gravity_on_planets[0], 'Kg')"
   ]
  },
  {
   "cell_type": "markdown",
   "metadata": {},
   "source": [
    "### min() y max() con listas\n",
    "Pyhton tiene funciones integradas para calcular los números más grandes y más pequeños de una lista. La función `max()` devuelve el número aás grande y la funcion `min()` devuelve el más pequeño. Así que `min(gravity_on_planets)` devuelve el número más pequeño de la lista, `gravity_on_planets` que es 0.378 (Mercurio).\n",
    "\n",
    "El siguiente código cacula os pesos mínimos y máximos en el sistema solar mediante el uso de las funciones:"
   ]
  },
  {
   "cell_type": "code",
   "execution_count": 13,
   "metadata": {},
   "outputs": [
    {
     "name": "stdout",
     "output_type": "stream",
     "text": [
      "On Earth, a double-decker bus weighs 12650 Kg\n",
      "The lightest a bus would be in the solar system is 4781.7 Kg\n",
      "The heaviest a bus would be in the solar system is 29854.0 Kg\n"
     ]
    }
   ],
   "source": [
    "bus_weight = 12650\n",
    "\n",
    "print('On Earth, a double-decker bus weighs', bus_weight, 'Kg')\n",
    "print('The lightest a bus would be in the solar system is', bus_weight * min(gravity_on_planets), 'Kg')\n",
    "print('The heaviest a bus would be in the solar system is', bus_weight * max(gravity_on_planets), 'Kg')"
   ]
  },
  {
   "cell_type": "markdown",
   "metadata": {},
   "source": [
    "## Manipular los datos de lista\n",
    "Es posible que debas trabajar con diferentes partes de una lista. Por ejemplo, supongamos que tiene una lista con cantidades de lluvia para varios meses. Para analizar adecuadamente este tipo de datos, es posible que debas buscar precipitaciones en otoño o en un período de tres meses. O puede ser que desees ordenar la lista de mayor cantidad de lluvia a menor.\n",
    "\n",
    "Python proporciona un soporte sólido para trabajar con los datos en las listas. Este soporte incluye el `slicing` (examinando solo una parte) y el `sorting`."
   ]
  },
  {
   "cell_type": "markdown",
   "metadata": {},
   "source": [
    "### Slice list\n",
    "Puedes recuperar una aprte de una lista mediante `slice` (Entendamos slice como una porción, un pedacito, un fragmento, segmento). `Slice` utiliza corchetes, pero en lugar de un solo elemento, tiene los índices inicial y final de los elementos que queremos recuperar. Cuando se utiliza `slice`, se crea una nueva lista que comienza en el índice inicial y que termina antes (y no incluye) el índice final.\n",
    "\n",
    "La lista de planetas tiene ocho elementos. La Tierra es la tercera en la lista. Para obtener los planetas antes que la Tierra, use un `slice` para obtener elementos que comienzan en 0 y terminan en 2:"
   ]
  },
  {
   "cell_type": "code",
   "execution_count": 14,
   "metadata": {},
   "outputs": [
    {
     "name": "stdout",
     "output_type": "stream",
     "text": [
      "['Mercury', 'Venus']\n"
     ]
    }
   ],
   "source": [
    "planets = ['Mercury', 'Venus', 'Earth', 'Mars', 'Jupiter', 'Saturn', 'Uranus', 'Neptune']\n",
    "planets_before_earth = planets[0:2]\n",
    "print(planets_before_earth)"
   ]
  },
  {
   "cell_type": "markdown",
   "metadata": {},
   "source": [
    "Observamos cómo la Tierra no está incluida en la lista. La razón es que el índie termina antes que el índice final.\n",
    "\n",
    "Para obtener todos los planetas des`pués de la Tierra, comenzamos en el tercero y vamos al ocatvo:"
   ]
  },
  {
   "cell_type": "code",
   "execution_count": 15,
   "metadata": {},
   "outputs": [
    {
     "name": "stdout",
     "output_type": "stream",
     "text": [
      "['Mars', 'Jupiter', 'Saturn', 'Uranus', 'Neptune']\n"
     ]
    }
   ],
   "source": [
    "planets_after_eath = planets[3:8]\n",
    "print(planets_after_eath)"
   ]
  },
  {
   "cell_type": "markdown",
   "metadata": {},
   "source": [
    "En este ejemplo, se muestra Neptuno. La razón es que el índice para Neptuno es `7`, porque la indexación comienza en `0`. Debido a que el índice final era `8`, incluye el último valor. Si no coloca el índice de detención en el `slice`, Pyhton asume que deseas ir al final de la lista:"
   ]
  },
  {
   "cell_type": "code",
   "execution_count": 16,
   "metadata": {},
   "outputs": [
    {
     "name": "stdout",
     "output_type": "stream",
     "text": [
      "['Mars', 'Jupiter', 'Saturn', 'Uranus', 'Neptune']\n"
     ]
    }
   ],
   "source": [
    "planets_after_earth = planets[3:]\n",
    "print(planets_after_earth)"
   ]
  },
  {
   "cell_type": "markdown",
   "metadata": {},
   "source": [
    "Un `slice`crea una nueva lista. No modifica la lista actual."
   ]
  },
  {
   "cell_type": "markdown",
   "metadata": {},
   "source": [
    "### Uniendo listas\n",
    "Has vistocómo puedes usar slices para dividir listas, pero¿Qué hay de unirlas de nuevo?\n",
    "\n",
    "Para unir dos listas, utilice el operador (`+`) con dos listas para devolver una nueva lista.\n",
    "\n",
    "Hay 79 lunas conocidas de Júpiter. Las cuatro más grandes son Io, Europa, Ganímedes y Calisto. Estas se llaman las lunas galileanas, porque Galileo Galilei las descubrió usando su telescopio en 1610. Más cerca de Júpiter que del grupo galileo está el grupo de Amaltea. Conosiste en las lunas Metis, Andreastea, Amaltea y Teba.\n",
    "\n",
    "Crea dos listas. Llene la primera lista con las cuatro lunas de Amaltea y la segunda lista con las cuatro lunas galileanas. Únelos para crear una nueva lista:"
   ]
  },
  {
   "cell_type": "code",
   "execution_count": 17,
   "metadata": {},
   "outputs": [
    {
     "name": "stdout",
     "output_type": "stream",
     "text": [
      "The regular satellite moons of Jupiter are ['Metis', 'Andastea', 'Amalthea', 'Thebe', 'Io', 'Europa', 'Ganymede', 'Callisto']\n"
     ]
    }
   ],
   "source": [
    "amalthea_group = ['Metis', 'Andastea', 'Amalthea', 'Thebe']\n",
    "galilean_moons = ['Io', 'Europa', 'Ganymede', 'Callisto']\n",
    "\n",
    "regular_satellite_moons = amalthea_group + galilean_moons\n",
    "print('The regular satellite moons of Jupiter are', regular_satellite_moons)"
   ]
  },
  {
   "cell_type": "markdown",
   "metadata": {},
   "source": [
    "Al unir las listas, se crea una nueva lista. No se modifica la lista actual."
   ]
  },
  {
   "cell_type": "markdown",
   "metadata": {},
   "source": [
    "### Ordenar listas\n",
    "Para ordenar una lista, utilizamos el método `sort()` de la lista. Pyhton ordenará una lista de cadenas en orden alfabético y una lista de números en orden numérico:"
   ]
  },
  {
   "cell_type": "code",
   "execution_count": 18,
   "metadata": {},
   "outputs": [
    {
     "name": "stdout",
     "output_type": "stream",
     "text": [
      "The regular satellite moons of Jupiter are ['Amalthea', 'Andastea', 'Callisto', 'Europa', 'Ganymede', 'Io', 'Metis', 'Thebe']\n"
     ]
    }
   ],
   "source": [
    "regular_satellite_moons.sort()\n",
    "print(\"The regular satellite moons of Jupiter are\", regular_satellite_moons)"
   ]
  },
  {
   "cell_type": "markdown",
   "metadata": {},
   "source": [
    "Para ordenar una lista en forma inversa, llamamos al metodo`.sort(reverse=True)` de la lista:"
   ]
  },
  {
   "cell_type": "code",
   "execution_count": 19,
   "metadata": {},
   "outputs": [
    {
     "name": "stdout",
     "output_type": "stream",
     "text": [
      "The regular satellite moons of Jupiter are ['Thebe', 'Metis', 'Io', 'Ganymede', 'Europa', 'Callisto', 'Andastea', 'Amalthea']\n"
     ]
    }
   ],
   "source": [
    "regular_satellite_moons.sort(reverse=True)\n",
    "print(\"The regular satellite moons of Jupiter are\", regular_satellite_moons)"
   ]
  },
  {
   "cell_type": "markdown",
   "metadata": {},
   "source": [
    "Al usar el método `.sort` modificas la lista actual."
   ]
  }
 ],
 "metadata": {
  "interpreter": {
   "hash": "7e1998ff7f8aa20ada591c520b972326324e5ea05489af9e422744c7c09f6dad"
  },
  "kernelspec": {
   "display_name": "Python 3.10.2 64-bit",
   "language": "python",
   "name": "python3"
  },
  "language_info": {
   "codemirror_mode": {
    "name": "ipython",
    "version": 3
   },
   "file_extension": ".py",
   "mimetype": "text/x-python",
   "name": "python",
   "nbconvert_exporter": "python",
   "pygments_lexer": "ipython3",
   "version": "3.10.2"
  },
  "orig_nbformat": 4
 },
 "nbformat": 4,
 "nbformat_minor": 2
}
