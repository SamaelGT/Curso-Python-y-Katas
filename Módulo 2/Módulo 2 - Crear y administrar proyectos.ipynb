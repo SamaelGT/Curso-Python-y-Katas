{
 "cells": [
  {
   "cell_type": "markdown",
   "metadata": {},
   "source": [
    "# Introducción"
   ]
  },
  {
   "cell_type": "markdown",
   "metadata": {},
   "source": [
    "En este punto, has creado pequeños programas que utilizan las bibliotecas que vienen con la instalación de Python. Funcionan bien. Pero a medida que construyes programas más avanzados, debes hacerte una pregunta: ¿Cuánto de esta nueva funcionalidad escribo y cuánto ya está escrito que puedo usar en mis propios programas?\n",
    "\n",
    "Como desarrollador, es probable que crees muchos programas en una sola maquina. Esos programas también se pueden usar en otras máquinas. Sin embargo, algunas de estas máquinas pueden tener versiones de Python instaladas que no son lo que espera. O bien, pueden tener bibliotecas instaladas que son de version inferior o superior a las que necesita tu programa.\n",
    "\n",
    "Entonces, ¿Qué hacer? Debes encontrar una manera de que tu programa funcione de forma aislada, para que no moleste lo que está instalado en la máquina de destino. También debes asegurarte de que una máquina no deshabilite tu programa porque tiene instalada la versión incorrecta de Python o la versión de la biblioteca."
   ]
  },
  {
   "cell_type": "markdown",
   "metadata": {},
   "source": [
    "### Crear un entorno virtual\n",
    "Para crear un entorno virtual, llama al módulo. El módulo espera un nombre como argumento venv.\n",
    "\n",
    "Sigue estos pasos:\n",
    "\n",
    "Desde tu terminal ve al directorio donde deseas guardar tu proyecto. Ejemplo en windows: `cd Documents/TuFolderPreferido`\n",
    "Utiliza el siguiente comando para llamar al módulo `venv`. El comando difiere ligeramente dependiendo tu sistema operativo.\n",
    "\n",
    "En consola: python3 -m venv env\n",
    "\n",
    "Donde:\n",
    "* python3: La versión de python a utilizar.\n",
    "* venv: Llama al módulo `venv` conocido como virtual enviorment.\n",
    "* env: Nombre de nuestro entorno virtual.\n",
    "\n"
   ]
  },
  {
   https://github.com/SamaelGT/Curso-Python-y-Katas/blob/27094e5d6b49a1a118686bb3b072c74a89dd80d2/Imagenes/ActivateVenv.png                    
                            
}
