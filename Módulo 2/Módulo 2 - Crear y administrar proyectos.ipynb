{
 "cells": [
  {
   "cell_type": "markdown",
   "metadata": {},
   "source": [
    "# Introducción"
   ]
  },
  {
   "cell_type": "markdown",
   "metadata": {},
   "source": [
    "En este punto, has creado pequeños programas que utilizan las bibliotecas que vienen con la instalación de Python. Funcionan bien. Pero a medida que construyes programas más avanzados, debes hacerte una pregunta: ¿Cuánto de esta nueva funcionalidad escribo y cuánto ya está escrito que puedo usar en mis propios programas?\n",
    "\n",
    "Como desarrollador, es probable que crees muchos programas en una sola maquina. Esos programas también se pueden usar en otras máquinas. Sin embargo, algunas de estas máquinas pueden tener versiones de Python instaladas que no son lo que espera. O bien, pueden tener bibliotecas instaladas que son de version inferior o superior a las que necesita tu programa.\n",
    "\n",
    "Entonces, ¿Qué hacer? Debes encontrar una manera de que tu programa funcione de forma aislada, para que no moleste lo que está instalado en la máquina de destino. También debes asegurarte de que una máquina no deshabilite tu programa porque tiene instalada la versión incorrecta de Python o la versión de la biblioteca."
   ]
  },
  {
   "cell_type": "markdown",
   "metadata": {},
   "source": [
    "### Crear un entorno virtual\n",
    "Para crear un entorno virtual, llama al módulo. El módulo espera un nombre como argumento venv.\n",
    "\n",
    "Sigue estos pasos:\n",
    "\n",
    "Desde tu terminal ve al directorio donde deseas guardar tu proyecto. Ejemplo en windows: `cd Documents/TuFolderPreferido`\n",
    "Utiliza el siguiente comando para llamar al módulo `venv`. El comando difiere ligeramente dependiendo tu sistema operativo.\n",
    "\n",
    "En consola: python3 -m venv env\n",
    "\n",
    "Donde:\n",
    "* python3: La versión de python a utilizar.\n",
    "* venv: Llama al módulo `venv` conocido como virtual enviorment.\n",
    "* env: Nombre de nuestro entorno virtual.\n",
    "\n"
   ]
  },
  {
   "cell_type": "markdown",
   "metadata": {},
   "source": [
    "![](..(/Imagenes/ActivateVenv.png))"
   ]
  },
  {
   "cell_type": "code",
   "execution_count": 4,
   "metadata": {},
   "outputs": [
    {
     "name": "stdout",
     "output_type": "stream",
     "text": [
      "zsh:1: bad pattern: [](..(/Imagenes/ActivateVenv))\n"
     ]
    }
   ],
   "source": [
    "![](..(/Imagenes/ActivateVenv.png))"
   ]
  },
  {
   "cell_type": "markdown",
   "metadata": {},
   "source": [
    "![](..(Imagenes/InstallDateutil.png))"
   ]
  },
  {
   "cell_type": "code",
   "execution_count": 5,
   "metadata": {},
   "outputs": [
    {
     "name": "stdout",
     "output_type": "stream",
     "text": [
      "zsh:1: bad pattern: [](..(Imagenes/InstallDateutil))\n"
     ]
    }
   ],
   "source": [
    "![](..(Imagenes/InstallDateutil))"
   ]
  },
  {
   "cell_type": "markdown",
   "metadata": {},
   "source": [
    "![](..(/Imagenes/Deactivate))"
   ]
  },
  {
   "cell_type": "code",
   "execution_count": 6,
   "metadata": {},
   "outputs": [
    {
     "name": "stdout",
     "output_type": "stream",
     "text": [
      "zsh:1: bad pattern: [](..(/Imagenes/Deactivate))\n"
     ]
    }
   ],
   "source": [
    "![](..(/Imagenes/Deactivate))"
   ]
  }
 ],
 "metadata": {
  "interpreter": {
   "hash": "7e1998ff7f8aa20ada591c520b972326324e5ea05489af9e422744c7c09f6dad"
  },
  "kernelspec": {
   "display_name": "Python 3.10.2 64-bit",
   "language": "python",
   "name": "python3"
  },
  "language_info": {
   "codemirror_mode": {
    "name": "ipython",
    "version": 3
   },
   "file_extension": ".py",
   "mimetype": "text/x-python",
   "name": "python",
   "nbconvert_exporter": "python",
   "pygments_lexer": "ipython3",
   "version": "3.10.2"
  },
  "orig_nbformat": 4
 },
 "nbformat": 4,
 "nbformat_minor": 2
}
