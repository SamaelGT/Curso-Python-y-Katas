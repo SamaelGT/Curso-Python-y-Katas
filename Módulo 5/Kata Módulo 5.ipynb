{
 "cells": [
  {
   "cell_type": "markdown",
   "metadata": {},
   "source": [
    "# Ejercicio 1 - Utilizar operadores aritméticos\n",
    "\n",
    "## Operadores aritméticos en Pyhton\n",
    "Pyhton proporciona operadores aritméticos comunes para que puedas realizar peraciones matemáticas en tu código. Estos incluyen las cuatro operaciones principales de `suma`, `resta`, `multiplicación` y `división`."
   ]
  },
  {
   "cell_type": "markdown",
   "metadata": {},
   "source": [
    "Exploremos cómo podeos crear un programa que pueda calcular la distancia entre dos planetas. Comenzaremos usando dos distancias de planetas: Tierra (149,597,870 Km) y Júpiter (778,547,200 Km).\n",
    "\n",
    "`NOTA:` Quita las comas cuando uses los valores."
   ]
  },
  {
   "cell_type": "code",
   "execution_count": 1,
   "metadata": {},
   "outputs": [],
   "source": [
    "T = 149597870\n",
    "J = 778547200"
   ]
  },
  {
   "cell_type": "markdown",
   "metadata": {},
   "source": [
    "### Realizar la operacón\n",
    "Con los valores obternidos, es el momento de añadir el código para realizar la operación. `Restarás el primero planeta del segundo para determinar la distancia` en Km. A continuación, puedes `convertir la distancia del kilómetro en millas multiplicándola por 0.621`."
   ]
  },
  {
   "cell_type": "code",
   "execution_count": 5,
   "metadata": {},
   "outputs": [
    {
     "name": "stdout",
     "output_type": "stream",
     "text": [
      "390577533.93\n"
     ]
    }
   ],
   "source": [
    "# Diferencia de Km\n",
    "dif = T - J\n",
    "x = abs(dif) * 0.621\n",
    "print(x)"
   ]
  },
  {
   "cell_type": "markdown",
   "metadata": {},
   "source": [
    "# Ejercicio 2: Convierte cadenas en números y usa valores absolutos.\n",
    "\n",
    "## Crear una aplicación para trabajar con números y entrada de usuario.\n",
    "\n",
    "Con frecuencia, deberás convertir los valores de cadena en números para realizar correctamente diferentes operaciones o determinar el valor absoluto de un número.\n",
    "\n",
    "Para crear nuestra aplicación, queremos leer la distancia del sol para dos planetas, y luego mostrar la distancia entre los planetas. Haremos esto usando `input` para leer los valores, `int` para convertir a entero y luego `abs` para convertir el resultado en su valor absoluto."
   ]
  },
  {
   "cell_type": "markdown",
   "metadata": {},
   "source": [
    "### Lee los valores\n",
    "Usando `input`, agrega el código para leer la distancia del sol para cada planeta considerando 2 planetas.\n",
    "\n",
    "Planeta | Distancia al sol\n",
    "-----   |   ------\n",
    "Mercurio| 57900000\n",
    "Venus| 108200000\n",
    "Tierra| 149600000\n",
    "Marte| 227900000\n",
    "Júpiter| 778600000\n",
    "Saturno| 1433500000\n",
    "Urano| 2872500000\n",
    "Neptuno| 4495100000\n"
   ]
  },
  {
   "cell_type": "code",
   "execution_count": 14,
   "metadata": {},
   "outputs": [
    {
     "name": "stdout",
     "output_type": "stream",
     "text": [
      "8.073\n"
     ]
    }
   ],
   "source": [
    "p1 = int(input(\"Otorgue la primera distancia del sol para el primer planeta\"))\n",
    "p2 = int(input(\"Otorgue la segunda distancia del sol para el segundo planeta\"))\n",
    "\n",
    "r1 = p1 - p2\n",
    "r2 = abs(r1) * 0.621\n",
    "\n",
    "print(r2)"
   ]
  }
 ],
 "metadata": {
  "interpreter": {
   "hash": "7e1998ff7f8aa20ada591c520b972326324e5ea05489af9e422744c7c09f6dad"
  },
  "kernelspec": {
   "display_name": "Python 3.10.2 64-bit",
   "language": "python",
   "name": "python3"
  },
  "language_info": {
   "codemirror_mode": {
    "name": "ipython",
    "version": 3
   },
   "file_extension": ".py",
   "mimetype": "text/x-python",
   "name": "python",
   "nbconvert_exporter": "python",
   "pygments_lexer": "ipython3",
   "version": "3.10.2"
  },
  "orig_nbformat": 4
 },
 "nbformat": 4,
 "nbformat_minor": 2
}
